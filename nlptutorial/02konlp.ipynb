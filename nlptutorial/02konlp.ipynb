{
 "cells": [
  {
   "cell_type": "code",
   "execution_count": 3,
   "metadata": {},
   "outputs": [
    {
     "data": {
      "text/plain": [
       "['constitution.txt']"
      ]
     },
     "execution_count": 3,
     "metadata": {},
     "output_type": "execute_result"
    }
   ],
   "source": [
    "from konlpy.corpus import kolaw\n",
    "kolaw.fileids()\n"
   ]
  },
  {
   "cell_type": "code",
   "execution_count": 6,
   "metadata": {},
   "outputs": [
    {
     "name": "stdout",
     "output_type": "stream",
     "text": [
      "모든 권력은 국민으로부터 나온다.\n",
      "  제2조 ① 대한민국의 국민이 되는 요건은 법률로 정한다.\n",
      "②국가는 법률이 정하는 바에 의하여 재외국민을 보호할 의무를 진다.\n",
      "  제3조 대한민국의 영토는 한반도와 그 부속도서로 한다.\n",
      "  제4조 대한민국은 통일을 지향하며, 자유민주적 기본질서에 입각한 평화적 통일 정책을 수립하고 이를 추진한다.\n",
      "  제5조 ① 대한민국은 국제평화의 유지에 노력하고 침략적 전쟁을 부인한다.\n",
      "②국군은 국가의 안전보장과 국토방위의 신성한 의무를 수행함을 사명으로 하며, 그 정치적 중립성은 준수된다.\n",
      "  제6조 ① 헌법에 의하여 체결·공포된 조약과 일반적으로 승인된 국제법규는 국내법과 같은 효력을 가진다.\n",
      "②외국인은 국제법과 조약이 정하는 바에 의하여 그 지위가 보장된다.\n",
      "  제7조 ① 공무원은 국민전체에 대한 봉사자이며, 국민에 대하여 책임을 진다.\n",
      "②공무원의 신분과 정치적 중립성은 법률이 정하는 바에 의하여 보장된다.\n",
      "  제8조 ① 정당의 설립은 자유이며, 복수정당제\n"
     ]
    }
   ],
   "source": [
    "c = kolaw.open('constitution.txt').read(\n",
    "print(c[500:1000]))"
   ]
  },
  {
   "cell_type": "code",
   "execution_count": 14,
   "metadata": {},
   "outputs": [],
   "source": [
    "from konlpy.tag import *\n",
    "hannanum = Hannanum()\n",
    "Kkma = Kkma()\n",
    "twitter = Twitter()"
   ]
  },
  {
   "cell_type": "code",
   "execution_count": 19,
   "metadata": {},
   "outputs": [
    {
     "data": {
      "text/plain": [
       "['권력', '국민', '제2조', '①', '대한민국', '국민', '요건', '법률', '정한']"
      ]
     },
     "execution_count": 19,
     "metadata": {},
     "output_type": "execute_result"
    }
   ],
   "source": [
    "hannanum.nouns(c[500:550])"
   ]
  },
  {
   "cell_type": "code",
   "execution_count": 20,
   "metadata": {},
   "outputs": [
    {
     "data": {
      "text/plain": [
       "['권력', '국민', '저', '2', '2조', '조', '대한', '대한민국', '민국', '요건', '법률', '정']"
      ]
     },
     "execution_count": 20,
     "metadata": {},
     "output_type": "execute_result"
    }
   ],
   "source": [
    "Kkma.nouns(c[500:550])"
   ]
  },
  {
   "cell_type": "code",
   "execution_count": 21,
   "metadata": {
    "collapsed": true
   },
   "outputs": [
    {
     "data": {
      "text/plain": [
       "['모든',\n",
       " '권력',\n",
       " '은',\n",
       " '국민',\n",
       " '으로부터',\n",
       " '나',\n",
       " '아',\n",
       " '오',\n",
       " 'ㄴ다',\n",
       " '.',\n",
       " '제2조',\n",
       " '①',\n",
       " '대한민국',\n",
       " '의',\n",
       " '국민',\n",
       " '이',\n",
       " '되',\n",
       " '는',\n",
       " '요건',\n",
       " '은',\n",
       " '법률',\n",
       " '로',\n",
       " '정한']"
      ]
     },
     "execution_count": 21,
     "metadata": {},
     "output_type": "execute_result"
    }
   ],
   "source": [
    "# 형태소 추출\n",
    "hannanum.morphs(c[500:550])"
   ]
  },
  {
   "cell_type": "code",
   "execution_count": 22,
   "metadata": {},
   "outputs": [
    {
     "data": {
      "text/plain": [
       "[('모든', 'M'),\n",
       " ('권력', 'N'),\n",
       " ('은', 'J'),\n",
       " ('국민', 'N'),\n",
       " ('으로부터', 'J'),\n",
       " ('나', 'P'),\n",
       " ('아', 'E'),\n",
       " ('오', 'P'),\n",
       " ('ㄴ다', 'E'),\n",
       " ('.', 'S'),\n",
       " ('제2조', 'N'),\n",
       " ('①', 'N'),\n",
       " ('대한민국', 'N'),\n",
       " ('의', 'J'),\n",
       " ('국민', 'N'),\n",
       " ('이', 'J'),\n",
       " ('되', 'P'),\n",
       " ('는', 'E'),\n",
       " ('요건', 'N'),\n",
       " ('은', 'J'),\n",
       " ('법률', 'N'),\n",
       " ('로', 'J'),\n",
       " ('정한', 'N')]"
      ]
     },
     "execution_count": 22,
     "metadata": {},
     "output_type": "execute_result"
    }
   ],
   "source": [
    "# 품사부착\n",
    "hannanum.pos(c[500:550])"
   ]
  }
 ],
 "metadata": {
  "kernelspec": {
   "display_name": "Python 3",
   "language": "python",
   "name": "python3"
  },
  "language_info": {
   "codemirror_mode": {
    "name": "ipython",
    "version": 3
   },
   "file_extension": ".py",
   "mimetype": "text/x-python",
   "name": "python",
   "nbconvert_exporter": "python",
   "pygments_lexer": "ipython3",
   "version": "3.6.4"
  }
 },
 "nbformat": 4,
 "nbformat_minor": 2
}
